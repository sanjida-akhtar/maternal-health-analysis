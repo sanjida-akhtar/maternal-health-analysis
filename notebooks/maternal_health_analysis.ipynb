{
  "nbformat": 4,
  "nbformat_minor": 0,
  "metadata": {
    "colab": {
      "provenance": []
    },
    "kernelspec": {
      "name": "python3",
      "display_name": "Python 3"
    },
    "language_info": {
      "name": "python"
    }
  },
  "cells": [
    {
      "cell_type": "code",
      "execution_count": null,
      "metadata": {
        "id": "Fwffiq3h7vB_"
      },
      "outputs": [],
      "source": [
        "# Import necessary libraries\n",
        "import pandas as pd\n",
        "import numpy as np\n",
        "import matplotlib.pyplot as plt\n",
        "import seaborn as sns\n",
        "from sklearn.preprocessing import StandardScaler,LabelEncoder\n",
        "from sklearn.model_selection import train_test_split\n",
        "from sklearn.ensemble import RandomForestClassifier\n",
        "from sklearn.neighbors import KNeighborsClassifier\n",
        "import xgboost as xgb\n",
        "from sklearn.metrics import accuracy_score, confusion_matrix, precision_score, recall_score, f1_score"
      ]
    },
    {
      "cell_type": "code",
      "source": [
        "# Import Dataset\n",
        "url = \"https://raw.githubusercontent.com/sanjida-akhtar/maternal-health-analysis/main/data/maternal_health.csv\"\n",
        "df = pd.read_csv(url)\n",
        "df.head()"
      ],
      "metadata": {
        "id": "U43XlDd571u5"
      },
      "execution_count": null,
      "outputs": []
    },
    {
      "cell_type": "code",
      "source": [
        "# Copy the dataset\n",
        "data = df.copy()\n",
        "data.head()"
      ],
      "metadata": {
        "id": "gVvf1QtB72xo"
      },
      "execution_count": null,
      "outputs": []
    },
    {
      "cell_type": "code",
      "source": [
        "# Rename columns\n",
        "data.rename(columns = {\"District \" : \"District\"}, inplace = True)"
      ],
      "metadata": {
        "id": "pAd8GVIY75HR"
      },
      "execution_count": null,
      "outputs": []
    },
    {
      "cell_type": "code",
      "source": [
        "# Drop unncessary columns\n",
        "data = data.drop(columns = [\"Division\",\"Total\", \"ANC1(%)\", \"ANC2(%)\", \"ANC3(%)\", \"ANC4(%)\", \"NVD(%)\", \"Ceasarean(%)\",\"Total Death\", \"Maternal Death(%)\",\n",
        "                           \"Maternal Death Review\", \"Total PNC\", \"PNC1(%)\", \"PNC2(%)\"], axis = 1)"
      ],
      "metadata": {
        "id": "5c6PCWrfhENY"
      },
      "execution_count": null,
      "outputs": []
    },
    {
      "cell_type": "code",
      "source": [
        "# Display the shape of dataset\n",
        "data.shape"
      ],
      "metadata": {
        "id": "b2zDC_sp77ok"
      },
      "execution_count": null,
      "outputs": []
    },
    {
      "cell_type": "code",
      "source": [
        "# Display basic information of dataset\n",
        "data.info()"
      ],
      "metadata": {
        "id": "AC_SWRKb793P"
      },
      "execution_count": null,
      "outputs": []
    },
    {
      "cell_type": "code",
      "source": [
        "# Display statistical summary of the dataset\n",
        "data.describe(include=\"all\")"
      ],
      "metadata": {
        "id": "ZGcKN6iu79_A"
      },
      "execution_count": null,
      "outputs": []
    },
    {
      "cell_type": "code",
      "source": [
        "# Check for data types of all variables\n",
        "data.dtypes"
      ],
      "metadata": {
        "id": "bAC6HEcf7-Fd"
      },
      "execution_count": null,
      "outputs": []
    },
    {
      "cell_type": "code",
      "source": [
        "# Label Encoding on District variable\n",
        "le = LabelEncoder()\n",
        "data[\"District\"] = le.fit_transform(data[\"District\"])"
      ],
      "metadata": {
        "id": "AS8UHYL98Gpj"
      },
      "execution_count": null,
      "outputs": []
    },
    {
      "cell_type": "code",
      "source": [
        "# Display number of values\n",
        "data[\"District\"].value_counts()"
      ],
      "metadata": {
        "id": "gg4icnD68G2K"
      },
      "execution_count": null,
      "outputs": []
    },
    {
      "cell_type": "code",
      "source": [
        "# Label encoding on Month variable\n",
        "la = LabelEncoder()\n",
        "data[\"Month\"] = la.fit_transform(data[\"Month\"])"
      ],
      "metadata": {
        "id": "MLVbY9RI8HDs"
      },
      "execution_count": null,
      "outputs": []
    },
    {
      "cell_type": "code",
      "source": [
        "# Display number of values in Month variable\n",
        "data[\"Month\"].value_counts()"
      ],
      "metadata": {
        "id": "WaSfF66q8WTe"
      },
      "execution_count": null,
      "outputs": []
    },
    {
      "cell_type": "code",
      "source": [
        "# Create a list to hold values\n",
        "arr = data[\"Maternal Death\"].values\n",
        "li = list(arr)\n",
        "def death_discretization(data):\n",
        "  \"\"\"\n",
        "  Discretizes values of a list, 0 represents No Death,\n",
        "  1 represents Low number of Death, 2 represents Medium number of Death and\n",
        "  3 represents High number of Death\n",
        "  data : Parameter represents a list.Return value.\n",
        "  \"\"\"\n",
        "  for x in range(len(data)):\n",
        "    if data[x] == 0:\n",
        "       data[x] = 0        # No death\n",
        "    elif data[x] < 25:\n",
        "       data[x] = 1        # Low Death\n",
        "    elif data[x] < 50:\n",
        "       data[x] = 2        # Medium Death\n",
        "    else:\n",
        "       data[x] = 3        # High Death\n",
        "  return data\n",
        "\n",
        "# Create Maternal Death Status column to hold discretized values\n",
        "data[\"Maternal Death Category\"] = death_discretization(arr)"
      ],
      "metadata": {
        "id": "rZcq1WNq8bgx"
      },
      "execution_count": null,
      "outputs": []
    },
    {
      "cell_type": "code",
      "source": [
        "# Set data type to integer\n",
        "data[\"Maternal Death Category\"] = data[\"Maternal Death Category\"].astype(int)"
      ],
      "metadata": {
        "id": "uHGhkrgTg8-w"
      },
      "execution_count": null,
      "outputs": []
    },
    {
      "cell_type": "code",
      "source": [
        "# Display the number of each values\n",
        "data[\"Maternal Death Category\"].value_counts()"
      ],
      "metadata": {
        "id": "GQ5Al3w58boZ"
      },
      "execution_count": null,
      "outputs": []
    },
    {
      "cell_type": "code",
      "source": [
        "# Plot a countplot\n",
        "sns.countplot(x = data[\"Year\"], data = data)\n",
        "plt.xlabel(\"Year\")\n",
        "plt.title(\"Histogram of ANC1 variable\")\n",
        "plt.show()"
      ],
      "metadata": {
        "id": "xCDlnIRXnfYU"
      },
      "execution_count": null,
      "outputs": []
    },
    {
      "cell_type": "code",
      "source": [
        "# Plot a boxplot\n",
        "sns.boxplot(x = data[\"District\"], data = data)\n",
        "plt.xlabel(\"Year\")\n",
        "plt.title(\"boxplot of District variable\")\n",
        "plt.tight_layout()\n",
        "plt.show()"
      ],
      "metadata": {
        "id": "-YbYu6Oyngik"
      },
      "execution_count": null,
      "outputs": []
    },
    {
      "cell_type": "code",
      "source": [
        "# Plot a boxplot\n",
        "sns.boxplot(x = data[\"Month\"], data = data)\n",
        "plt.xlabel(\"Year\")\n",
        "plt.title(\"boxplot of Month variable\")\n",
        "plt.tight_layout()\n",
        "plt.show()"
      ],
      "metadata": {
        "id": "KJad5XdSnjdE"
      },
      "execution_count": null,
      "outputs": []
    },
    {
      "cell_type": "code",
      "source": [
        "# Display the histogram of ANC1\n",
        "sns.histplot(x = data[\"ANC1\"], data = data)\n",
        "plt.xlabel(\"ANC1\")\n",
        "plt.title(\"Histogram of ANC1 variable\")\n",
        "plt.show()"
      ],
      "metadata": {
        "id": "QOMc-hUJnnEa"
      },
      "execution_count": null,
      "outputs": []
    },
    {
      "cell_type": "code",
      "source": [
        "# Display the histogram of ANC2\n",
        "sns.histplot(x = data[\"ANC2\"], data = data)\n",
        "plt.xlabel(\"ANC2\")\n",
        "plt.title(\"Histogram of ANC2 variable\")\n",
        "plt.show()"
      ],
      "metadata": {
        "id": "WA6sVWOJnnbJ"
      },
      "execution_count": null,
      "outputs": []
    },
    {
      "cell_type": "code",
      "source": [
        "# Display the histogram of ANC3\n",
        "sns.histplot(x = data[\"ANC3\"], data = data)\n",
        "plt.xlabel(\"ANC3\")\n",
        "plt.title(\"Histogram of ANC3 variable\")\n",
        "plt.show()"
      ],
      "metadata": {
        "id": "pwiaM0M8nnpS"
      },
      "execution_count": null,
      "outputs": []
    },
    {
      "cell_type": "code",
      "source": [
        "# Display the histogram of ANC4\n",
        "sns.histplot(x = data[\"ANC4\"], data = data)\n",
        "plt.xlabel(\"ANC4\")\n",
        "plt.title(\"Histogram of ANC4 variable\")\n",
        "plt.show()"
      ],
      "metadata": {
        "id": "Gtx4egS6nnwg"
      },
      "execution_count": null,
      "outputs": []
    },
    {
      "cell_type": "code",
      "source": [
        "# Display the histogram of Delivery\n",
        "sns.histplot(x = data[\"Delivery\"], data = data)\n",
        "plt.xlabel(\"Delivery\")\n",
        "plt.title(\"Histogram of Delivery variable\")\n",
        "plt.show()"
      ],
      "metadata": {
        "id": "t3DjciyCnn7E"
      },
      "execution_count": null,
      "outputs": []
    },
    {
      "cell_type": "code",
      "source": [
        "# Display the histogram of Ceasarean\n",
        "sns.histplot(x = data[\"Ceasarean\"], data = data)\n",
        "plt.xlabel(\"Ceasarean\")\n",
        "plt.title(\"Histogram of Ceasarean variable\")\n",
        "plt.show()"
      ],
      "metadata": {
        "id": "kL34e3aan3Sg"
      },
      "execution_count": null,
      "outputs": []
    },
    {
      "cell_type": "code",
      "source": [
        "# Display the histogram of NVD\n",
        "sns.histplot(x = data[\"NVD\"], data = data)\n",
        "plt.xlabel(\"NVD\")\n",
        "plt.title(\"Histogram of NVD variable\")\n",
        "plt.show()"
      ],
      "metadata": {
        "id": "htydsDmin3hL"
      },
      "execution_count": null,
      "outputs": []
    },
    {
      "cell_type": "code",
      "source": [
        "# Display the histogram of PNC1\n",
        "sns.histplot(x = data[\"PNC1\"], data = data)\n",
        "plt.xlabel(\"Post natal care-1\")\n",
        "plt.title(\"Histogram of PNC1 variable\")\n",
        "plt.show()"
      ],
      "metadata": {
        "id": "jbdPVfc4n3ul"
      },
      "execution_count": null,
      "outputs": []
    },
    {
      "cell_type": "code",
      "source": [
        "# Display the histogram of PNC2\n",
        "sns.histplot(x = data[\"PNC2\"], data = data)\n",
        "plt.xlabel(\"Post natal care-2\")\n",
        "plt.title(\"Histogram of PNC2 variable\")\n",
        "plt.show()"
      ],
      "metadata": {
        "id": "yhiOpyEBn4Nz"
      },
      "execution_count": null,
      "outputs": []
    },
    {
      "cell_type": "code",
      "source": [
        "# Bivariate EDA\n",
        "\n",
        "# Display barplot of ANC1\n",
        "sns.barplot(  x= data[\"Maternal Death Category\"],y = data[\"ANC1\"], data = data)\n",
        "plt.ylabel(\"Antenatal Care-1\")\n",
        "plt.xlabel(\"Maternal Death Category\")\n",
        "plt.title(\"Barplot of ANC and Maternal Death Category\")\n",
        "plt.show()"
      ],
      "metadata": {
        "id": "RHVldXeqoIiI"
      },
      "execution_count": null,
      "outputs": []
    },
    {
      "cell_type": "code",
      "source": [
        "# Display barplot\n",
        "sns.barplot(  x= data[\"Maternal Death Category\"],y = data[\"ANC2\"], data = data)\n",
        "plt.ylabel(\"Antenatal Care-2\")\n",
        "plt.xlabel(\"Maternal Death Category\")\n",
        "plt.title(\"Barplot of ANC2 and Maternal Death Category\")\n",
        "plt.show()"
      ],
      "metadata": {
        "id": "QmRRSxteoIv6"
      },
      "execution_count": null,
      "outputs": []
    },
    {
      "cell_type": "code",
      "source": [
        "# Display barplot\n",
        "sns.barplot(  x= data[\"Maternal Death Category\"],y = data[\"ANC3\"], data = data)\n",
        "plt.ylabel(\"Antenatal Care-3\")\n",
        "plt.xlabel(\"Maternal Death Category\")\n",
        "plt.title(\"Barplot of ANC3 and Maternal Death Category\")\n",
        "plt.show()"
      ],
      "metadata": {
        "id": "4d5Lqmh9oI2C"
      },
      "execution_count": null,
      "outputs": []
    },
    {
      "cell_type": "code",
      "source": [
        "# Display barplot\n",
        "sns.barplot(  x= data[\"Maternal Death Category\"],y = data[\"ANC4\"], data = data)\n",
        "plt.ylabel(\"Antenatal Care-4\")\n",
        "plt.xlabel(\"Maternal Death Category\")\n",
        "plt.title(\"Barplot of ANC4 and Maternal Death Category\")\n",
        "plt.show()"
      ],
      "metadata": {
        "id": "BUyFYFtcoI7V"
      },
      "execution_count": null,
      "outputs": []
    },
    {
      "cell_type": "code",
      "source": [
        "# Display barplot\n",
        "sns.barplot(  x= data[\"Maternal Death Category\"],y = data[\"Delivery\"], data = data)\n",
        "plt.ylabel(\"Delivery\")\n",
        "plt.xlabel(\"Maternal Death Category\")\n",
        "plt.title(\"Barplot of Delivery and Maternal Death Category\")\n",
        "plt.show()"
      ],
      "metadata": {
        "id": "UxP0FI51oJBX"
      },
      "execution_count": null,
      "outputs": []
    },
    {
      "cell_type": "code",
      "source": [
        "# Display barplot\n",
        "sns.barplot( x= data[\"Maternal Death Category\"],y = data[\"NVD\"], data = data)\n",
        "plt.ylabel(\"Normal Vaginal Delivery\")\n",
        "plt.xlabel(\"Maternal Death Category\")\n",
        "plt.title(\"Barplot of NVD and Maternal Death Category\")\n",
        "plt.show()"
      ],
      "metadata": {
        "id": "DU5FKAY2ocFU"
      },
      "execution_count": null,
      "outputs": []
    },
    {
      "cell_type": "code",
      "source": [
        "# Display barplot\n",
        "sns.barplot( x= data[\"Maternal Death Category\"],y = data[\"Ceasarean\"], data = data)\n",
        "plt.ylabel(\"Ceasarean\")\n",
        "plt.xlabel(\"Maternal Death Category\")\n",
        "plt.title(\"Barplot of Ceasarean and Maternal Death Category\")\n",
        "plt.show()"
      ],
      "metadata": {
        "id": "_VLvyg5tubho"
      },
      "execution_count": null,
      "outputs": []
    },
    {
      "cell_type": "code",
      "source": [
        "# Display barplot\n",
        "sns.barplot(  x= data[\"Maternal Death Category\"],y = data[\"PNC1\"], data = data)\n",
        "plt.ylabel(\"Postnatal Care-1\")\n",
        "plt.xlabel(\"Maternal Death Category\")\n",
        "plt.title(\"Barplot of PNC1 and Maternal Death Category\")\n",
        "plt.show()"
      ],
      "metadata": {
        "id": "ULFr96DFocg5"
      },
      "execution_count": null,
      "outputs": []
    },
    {
      "cell_type": "code",
      "source": [
        "# Display barplot\n",
        "sns.barplot( x= data[\"Maternal Death Category\"],y = data[\"PNC2\"], data = data)\n",
        "plt.ylabel(\"Postnatal Care-1\")\n",
        "plt.xlabel(\"Maternal Death Category\")\n",
        "plt.title(\"Barplot of PNC2 and Maternal Death Category\")\n",
        "plt.show()"
      ],
      "metadata": {
        "id": "6w2019jWocpm"
      },
      "execution_count": null,
      "outputs": []
    },
    {
      "cell_type": "code",
      "source": [
        "# Display crosstab\n",
        "dis = pd.crosstab(data[\"Maternal Death Category\"], data[\"District\"])\n",
        "dis"
      ],
      "metadata": {
        "id": "trYfKYEtvFXB"
      },
      "execution_count": null,
      "outputs": []
    },
    {
      "cell_type": "code",
      "source": [
        "# Display heatmap\n",
        "sns.heatmap(dis, annot = True, fmt = \"d\", cmap = \"Blues\")\n",
        "plt.title(\"Heatmap\")\n",
        "plt.show()"
      ],
      "metadata": {
        "id": "0iLzUwilwDjW"
      },
      "execution_count": null,
      "outputs": []
    },
    {
      "cell_type": "code",
      "source": [
        "# Display crosstab\n",
        "month = pd.crosstab(data[\"Maternal Death Category\"], data[\"Month\"])\n",
        "month"
      ],
      "metadata": {
        "id": "1ctFgDf-whc3"
      },
      "execution_count": null,
      "outputs": []
    },
    {
      "cell_type": "code",
      "source": [
        "# Display heatmap\n",
        "sns.heatmap(month, annot = True, fmt = \"d\", cmap = \"Blues\")\n",
        "plt.title(\"Heatmap\")\n",
        "plt.show()"
      ],
      "metadata": {
        "id": "Uo4W3L3cwrDf"
      },
      "execution_count": null,
      "outputs": []
    },
    {
      "cell_type": "code",
      "source": [
        "\n",
        "X = data.drop([\"Maternal Death\", \"Maternal Death Category\"], axis = 1)\n",
        "y = data[\"Maternal Death Category\"]"
      ],
      "metadata": {
        "id": "GqlQEOd1892S"
      },
      "execution_count": null,
      "outputs": []
    },
    {
      "cell_type": "code",
      "source": [
        "# Find correlation among variables\n",
        "cor = data.corr()"
      ],
      "metadata": {
        "id": "L6KmYc_Qov4x"
      },
      "execution_count": null,
      "outputs": []
    },
    {
      "cell_type": "code",
      "source": [
        "# Display a heatmap\n",
        "plt.figure(figsize = (10, 8))\n",
        "sns.heatmap(cor, cmap = \"Blues\", annot = True, square = True, center = 0, fmt = \".2f\")\n",
        "plt.title(\"Correlation Heatmap\", fontsize = 16)\n",
        "plt.xticks(rotation = 45)\n",
        "plt.yticks(rotation = 0)\n",
        "plt.show()"
      ],
      "metadata": {
        "id": "bVxU3XKnow3s"
      },
      "execution_count": null,
      "outputs": []
    },
    {
      "cell_type": "code",
      "source": [
        "# Split the dataset into train and test set\n",
        "X_train, X_test, y_train, y_test = train_test_split(X, y, test_size = 0.20, random_state = 42)\n",
        "X_train, X_val, y_train, y_val = train_test_split(X_train, y_train, test_size = 0.1, random_state = 42)\n",
        "\n",
        "# Standardise dataset\n",
        "scaler = StandardScaler()\n",
        "X_train_scaled = scaler.fit_transform(X_train)\n",
        "X_val_scaled = scaler.transform(X_val)\n",
        "X_test_scaled = scaler.transform(X_test)"
      ],
      "metadata": {
        "id": "H5eMHjqu8bv2"
      },
      "execution_count": null,
      "outputs": []
    },
    {
      "cell_type": "code",
      "source": [
        "# Create RandomForestClassifier object\n",
        "rfc = RandomForestClassifier()\n",
        "# Train the model\n",
        "rfc.fit(X_train_scaled, y_train)\n",
        "# Predict validation data\n",
        "rfc_yhat_val = rfc.predict(X_val_scaled)\n",
        "\n",
        "# Calculate metrics for validation set\n",
        "rfc_accuracy = accuracy_score(y_val, rfc_yhat_val)\n",
        "\n",
        "rfc_pre = precision_score(y_val, rfc_yhat_val, average = \"macro\")\n",
        "rfc_rec = recall_score(y_val, rfc_yhat_val, average = \"macro\")\n",
        "rfc_f1 = f1_score(y_val, rfc_yhat_val, average = \"macro\")\n",
        "\n",
        "print(\"Evalutaion metrics in validation set: \")\n",
        "print(f\"Accuracy in RandomForest Classifier: {rfc_accuracy: .2f}\")\n",
        "print(f\"Precision Score in RandomForest Classifier: {rfc_pre: .2f}\",)\n",
        "print(f\"Recall Score in K RandomForest Classifier: {rfc_rec: .2f}\",)\n",
        "print(f\"F-1 Score in K RandomForest Classifier: {rfc_f1: .2f}\",)"
      ],
      "metadata": {
        "id": "dYquA6IXpI5z"
      },
      "execution_count": null,
      "outputs": []
    },
    {
      "cell_type": "code",
      "source": [
        "# Predict on test set\n",
        "rfc_yhat_test = rfc.predict(X_test_scaled)\n",
        "\n",
        "# Calculate metrics on test set\n",
        "rfc_accuracy = accuracy_score(y_test, rfc_yhat_test)\n",
        "rfc_pre_test = precision_score(y_test, rfc_yhat_test, average = \"macro\")\n",
        "rfc_rec_test = recall_score(y_test, rfc_yhat_test, average = \"macro\")\n",
        "rfc_f1_test = f1_score(y_test, rfc_yhat_test, average = \"macro\")\n",
        "\n",
        "# Display the metrics\n",
        "print(\"Evaluation metrics in test set:\")\n",
        "print(f\"Accuracy in RandomForest Classifier: {rfc_accuracy: .2f}\")\n",
        "print(f\"Precision Score in RandomForest Classifier: {rfc_pre: .2f}\",)\n",
        "print(f\"Recall Score in K RandomForest Classifier: {rfc_rec: .2f}\",)\n",
        "print(f\"F-1 Score in K RandomForest Classifier: {rfc_f1: .2f}\",)"
      ],
      "metadata": {
        "id": "YBWRIod9mtvw"
      },
      "execution_count": null,
      "outputs": []
    },
    {
      "cell_type": "code",
      "source": [
        "# Build confusion matrix and display heatmap\n",
        "cma = confusion_matrix(y_test, rfc_yhat_test)\n",
        "sns.heatmap(cma, annot = True, fmt = \"d\", cmap = \"Blues\")\n",
        "plt.xlabel(\"Predicted Values\")\n",
        "plt.ylabel(\"Actual Values\")\n",
        "plt.title(\"Confusion Matrix of RandomForestClassifier\")\n",
        "plt.show()"
      ],
      "metadata": {
        "id": "p4KnMYd2qARH"
      },
      "execution_count": null,
      "outputs": []
    },
    {
      "cell_type": "code",
      "source": [
        "# Create KNeighborsClassifier\n",
        "knn = KNeighborsClassifier(n_neighbors = 7)\n",
        "# Train the model\n",
        "knn.fit(X_train, y_train)\n",
        "\n",
        "# Predict on validation set\n",
        "knn_yhat_val = knn.predict(X_val)\n",
        "# Calculate metrics on validation set\n",
        "accuracy_val = accuracy_score(y_val, knn_yhat_val)\n",
        "pre_val = precision_score(y_val, knn_yhat_val, average = \"macro\")\n",
        "rec_val = recall_score(y_val, knn_yhat_val, average = \"macro\")\n",
        "f1_val = f1_score(y_val, knn_yhat_val, average = \"macro\")\n",
        "\n",
        "# Display metrics on validation set\n",
        "print(f\"Accuracy in K Nearest Neighbors: {accuracy_val: .2f}\")\n",
        "print(f\"Precision Score in K nearest neighbor: {pre_val: .2f}\",)\n",
        "print(f\"Recall Score in K nearest neighbor: {rec_val: .2f}\",)\n",
        "print(f\"F-1 Score in K nearest neighbor: {f1_val: .2f}\",)"
      ],
      "metadata": {
        "id": "VK8GelpYZnWr"
      },
      "execution_count": null,
      "outputs": []
    },
    {
      "cell_type": "code",
      "source": [
        "# Predict on test set\n",
        "knn_yhat_test = knn.predict(X_test)\n",
        "\n",
        "# Calculate metrics on test set\n",
        "accuracy_test = accuracy_score(y_test, knn_yhat_test)\n",
        "pre_test = precision_score(y_test, knn_yhat_test, average = \"macro\")\n",
        "rec_test = recall_score(y_test, knn_yhat_test, average = \"macro\")\n",
        "f1_test = f1_score(y_test, knn_yhat_test, average = \"macro\")\n",
        "\n",
        "# Display the metrics on test set\n",
        "print(f\"Accuracy in K Nearest Neighbors: {accuracy_test: .2f}\")\n",
        "print(f\"Precision Score in K nearest neighbor: {pre_test: .2f}\",)\n",
        "print(f\"Recall Score in K nearest neighbor: {rec_test: .2f}\",)\n",
        "print(f\"F-1 Score in K nearest neighbor: {f1_test: .2f}\",)"
      ],
      "metadata": {
        "id": "6yc9qhHNrD0t"
      },
      "execution_count": null,
      "outputs": []
    },
    {
      "cell_type": "code",
      "source": [
        "# Create confusion matrix and display a heatmap\n",
        "cm = confusion_matrix(y_test, knn_yhat_test)\n",
        "sns.heatmap(cm, annot = True, fmt = \"d\", cmap = \"Blues\")\n",
        "plt.xlabel(\"Predicted Values\")\n",
        "plt.ylabel(\"Actual Values\")\n",
        "plt.title(\"Confusion Matrix of KNeighborsClassifier\")\n",
        "plt.show()"
      ],
      "metadata": {
        "id": "rYwEW3CSbtH2"
      },
      "execution_count": null,
      "outputs": []
    },
    {
      "cell_type": "code",
      "source": [
        "# Create DMatrix\n",
        "xgb_train = xgb.DMatrix(X_train, y_train)\n",
        "xgb_test = xgb.DMatrix(X_test, y_test)"
      ],
      "metadata": {
        "id": "U6puMcpRfyMB"
      },
      "execution_count": null,
      "outputs": []
    },
    {
      "cell_type": "code",
      "source": [
        "# Create and train xgb model\n",
        "params = {'objective': 'multi:softmax',\n",
        "          \"max_depth\" : 3,\n",
        "          \"learning_rate\" : 0.01,\n",
        "          \"num_class\" : 4}\n",
        "n = 50\n",
        "model = xgb.train(params = params, dtrain = xgb_train, num_boost_round = n)\n",
        "xgb_yhat = model.predict(xgb_test)\n",
        "\n"
      ],
      "metadata": {
        "id": "05mo2me0fohk"
      },
      "execution_count": null,
      "outputs": []
    },
    {
      "cell_type": "code",
      "source": [
        "# Get label of test set\n",
        "xgb_test = xgb_test.get_label()\n",
        "# Calculate metrics on test set\n",
        "xgb_accuracy = accuracy_score(xgb_test, xgb_yhat)\n",
        "xgb_pre = precision_score(xgb_test, xgb_yhat)\n",
        "xgb_rec = recall_score(xgb_test, xgb_yhat)\n",
        "xgb_f1 = f1_score(xgb_test, xgb_yhat)\n",
        "\n",
        "# Display the metrics on test set\n",
        "print(f\"Accuracy in XGBoost: {xgb_accuracy: .2f}\")\n",
        "print(f\"Precision in XGBoost: {xgb_pre: .2f}\")\n",
        "print(f\"Recall in XGBoost: {xgb_rec: .2f}\")\n",
        "print(f\"F-1 score in XGBoost: {xgb_f1: .2f}\")\n",
        "print(\"Confusion Matrix: \")\n",
        "print(confusion_matrix(xgb_test, xgb_yhat))"
      ],
      "metadata": {
        "id": "K7sqoNJAqPTz"
      },
      "execution_count": null,
      "outputs": []
    },
    {
      "cell_type": "code",
      "source": [
        "# Create a confusion matrix and display a heatmap\n",
        "cmat = confusion_matrix(xgb_test, xgb_yhat)\n",
        "sns.heatmap(cmat, annot = True, fmt = \"d\", cmap = \"Blues\")\n",
        "plt.xlabel(\"Predicted Values\")\n",
        "plt.ylabel(\"Actual Values\")\n",
        "plt.title(\"Confusion Matrix of XGBoost\")\n",
        "plt.show()"
      ],
      "metadata": {
        "id": "ByxBZXL1hVon"
      },
      "execution_count": null,
      "outputs": []
    }
  ]
}