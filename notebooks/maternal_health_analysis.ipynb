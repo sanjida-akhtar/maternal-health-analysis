{
  "nbformat": 4,
  "nbformat_minor": 0,
  "metadata": {
    "colab": {
      "provenance": []
    },
    "kernelspec": {
      "name": "python3",
      "display_name": "Python 3"
    },
    "language_info": {
      "name": "python"
    }
  },
  "cells": [
    {
      "cell_type": "code",
      "execution_count": 38,
      "metadata": {
        "id": "Fwffiq3h7vB_"
      },
      "outputs": [],
      "source": [
        "# Import necessary libraries\n",
        "import pandas as pd\n",
        "import numpy as np\n",
        "import matplotlib.pyplot as plt\n",
        "import seaborn as sns\n",
        "from statsmodels.graphics.tsaplots import plot_acf\n",
        "from statsmodels.tsa.stattools import adfuller"
      ]
    },
    {
      "cell_type": "code",
      "source": [
        "# Import Dataset\n",
        "url = \"https://raw.githubusercontent.com/sanjida-akhtar/maternal-health-analysis/main/data/maternal_health.csv\"\n",
        "df = pd.read_csv(url)\n",
        "df.head()"
      ],
      "metadata": {
        "id": "U43XlDd571u5",
        "collapsed": true
      },
      "execution_count": null,
      "outputs": []
    },
    {
      "cell_type": "code",
      "source": [
        "# Copy the dataset\n",
        "data = df.copy()\n",
        "data.head()"
      ],
      "metadata": {
        "id": "gVvf1QtB72xo"
      },
      "execution_count": null,
      "outputs": []
    },
    {
      "cell_type": "code",
      "source": [
        "# Rename columns\n",
        "data.rename(columns = {\"District \" : \"District\"}, inplace = True)"
      ],
      "metadata": {
        "id": "pAd8GVIY75HR"
      },
      "execution_count": 41,
      "outputs": []
    },
    {
      "cell_type": "code",
      "source": [
        "# Drop unncessary columns\n",
        "data = data.drop(columns = [\"Division\",\"Total\", \"ANC1(%)\", \"ANC2(%)\", \"ANC3(%)\", \"ANC4(%)\", \"NVD(%)\", \"Ceasarean(%)\",\"Total Death\", \"Maternal Death(%)\",\n",
        "                           \"Maternal Death Review\", \"Total PNC\", \"PNC1(%)\", \"PNC2(%)\"], axis = 1)"
      ],
      "metadata": {
        "id": "5c6PCWrfhENY"
      },
      "execution_count": 42,
      "outputs": []
    },
    {
      "cell_type": "code",
      "source": [
        "data[\"Date\"] = pd.to_datetime(data[\"Year\"].astype(str) + \"-\" + data[\"Month\"].astype(str))\n",
        "data = data.sort_values(\"Date\")\n",
        "data.set_index(\"Date\", inplace = True)\n",
        "data.head()"
      ],
      "metadata": {
        "id": "sO00XEyVsWuk"
      },
      "execution_count": null,
      "outputs": []
    },
    {
      "cell_type": "code",
      "source": [
        "# Drop Year and Month column\n",
        "data.drop([\"Year\", \"Month\"],axis = 1, inplace = True)\n"
      ],
      "metadata": {
        "id": "5ZEzeWEdR4M2"
      },
      "execution_count": null,
      "outputs": []
    },
    {
      "cell_type": "code",
      "source": [
        "data.head()"
      ],
      "metadata": {
        "id": "xFNItWq0TK34"
      },
      "execution_count": null,
      "outputs": []
    },
    {
      "cell_type": "code",
      "source": [
        "# Display the shape of dataset\n",
        "data.shape"
      ],
      "metadata": {
        "id": "b2zDC_sp77ok"
      },
      "execution_count": null,
      "outputs": []
    },
    {
      "cell_type": "code",
      "source": [
        "# Display basic information of dataset\n",
        "data.info()"
      ],
      "metadata": {
        "id": "AC_SWRKb793P"
      },
      "execution_count": null,
      "outputs": []
    },
    {
      "cell_type": "code",
      "source": [
        "# Display statistical summary of the dataset\n",
        "data.describe(include=\"all\")"
      ],
      "metadata": {
        "id": "ZGcKN6iu79_A"
      },
      "execution_count": null,
      "outputs": []
    },
    {
      "cell_type": "code",
      "source": [
        "# Check for data types of all variables\n",
        "data.dtypes"
      ],
      "metadata": {
        "id": "bAC6HEcf7-Fd"
      },
      "execution_count": null,
      "outputs": []
    },
    {
      "cell_type": "code",
      "source": [
        "# Display number of values\n",
        "data[\"District\"].value_counts()"
      ],
      "metadata": {
        "id": "gg4icnD68G2K"
      },
      "execution_count": null,
      "outputs": []
    },
    {
      "cell_type": "code",
      "source": [
        "def line_plot(df, dist):\n",
        "  \"\"\"\n",
        "  Plot a line plot for a specified district.\n",
        "  df : Data\n",
        "  dist : District\n",
        "  \"\"\"\n",
        "  sns.set(style=\"whitegrid\")\n",
        "  plt.figure(figsize = (10, 6))\n",
        "  sns.lineplot(x = \"Date\", y = \"Maternal Death\", data = df, label = \"Number of maternal death\", color = \"blue\")\n",
        "  plt.xlabel(\"Date\")\n",
        "  plt.ylabel(\"Maternal Death\")\n",
        "  plt.title(\"Number of maternal death over time in \"+ dist)\n",
        "  plt.show()"
      ],
      "metadata": {
        "id": "_PnsY84JUfgC"
      },
      "execution_count": 53,
      "outputs": []
    },
    {
      "cell_type": "code",
      "source": [
        "def plot_seasonality(df, dist):\n",
        "  \"\"\"\n",
        "  Plot seasonality of data.\n",
        "  df: Data\n",
        "  dist: District\n",
        "  \"\"\"\n",
        "\n",
        "  if \"Date\" not in df:\n",
        "    print(\"Date is already in index or not present in the dataframe\")\n",
        "  else:\n",
        "    df.set_index(\"Date\", inplace = True)\n",
        "\n",
        "  plt.figure(figsize = (10, 6))\n",
        "  plot_acf(df[\"Maternal Death\"], lags = 30)\n",
        "  plt.xlabel(\"Lag\")\n",
        "  plt.ylabel(\"Autocorrealtion\")\n",
        "  plt.title(\"Autocorrelation Function Plot for \"+ dist)\n",
        "  plt.show()"
      ],
      "metadata": {
        "id": "n2wG2-vRos9_"
      },
      "execution_count": 54,
      "outputs": []
    },
    {
      "cell_type": "code",
      "source": [
        "def testing_stationarity(data, dist):\n",
        "  \"\"\"\n",
        "  Test for stationarity in data.\n",
        "  data : Data\n",
        "  dist : District\n",
        "  \"\"\"\n",
        "\n",
        "  stationarity = adfuller(data[\"Maternal Death\"])\n",
        "  print(\"ADF Statistic: \", stationarity[0])\n",
        "  print(\"p-value for \"+ dist, \" : \", stationarity[1])\n",
        "  print(\"Critical Values: \", stationarity[4])"
      ],
      "metadata": {
        "id": "wHdBotJarGTV"
      },
      "execution_count": 55,
      "outputs": []
    },
    {
      "cell_type": "code",
      "source": [
        "def differencing(data, dist):\n",
        "  \"\"\"\n",
        "  Plot differenced Maternal Death.\n",
        "  data : Data\n",
        "  dist : Dist\n",
        "  \"\"\"\n",
        "\n",
        "  data[\"Maternal Death Diff\"] = data[\"Maternal Death\"].diff()\n",
        "\n",
        "  plt.figure(figsize = (10, 6))\n",
        "  plt.plot(df[\"Maternal Death\"], label = \"Actual Maternal Death\", color = \"red\")\n",
        "  plt.plot(df[\"Maternal Death Diff\"], label = \"Differenced Maternal Death\", linestyle = \"--\", color = \"blue\")\n",
        "  plt.legend()\n",
        "  plt.title(\"Actual Maternal Death vs Differenced Maternal Death in \"+dist)\n",
        "  plt.show()\n"
      ],
      "metadata": {
        "id": "p2xfx3ynsdx-"
      },
      "execution_count": 56,
      "outputs": []
    },
    {
      "cell_type": "code",
      "source": [
        "def smoothing(data, dist):\n",
        "  \"\"\"\n",
        "  Plot smoothed Maternal Death.\n",
        "  data : Data\n",
        "  dist : District\n",
        "  \"\"\"\n",
        "\n",
        "  window_size = 30\n",
        "  data[\"Smoothed Maternal Death\"] = data[\"Maternal Death\"].rolling(window = window_size).mean()\n",
        "\n",
        "  plt.plot(data[\"Maternal Death\"], label = \"Actual Maternal Death\", color = \"red\")\n",
        "  plt.plot(data[\"Smoothed Maternal Death\"], label = f\"Moving average (window_size): {window_size}\", linestyle = \"--\", color = \"blue\")\n",
        "  plt.xlabel(\"Date\")\n",
        "  plt.ylabel(\"Matenal Death\")\n",
        "  plt.title(\"Actual vs Moving average for \", dist)\n",
        "  plt.legend()\n",
        "  plt.show()\n"
      ],
      "metadata": {
        "id": "VmM1sOW-u3e9"
      },
      "execution_count": 57,
      "outputs": []
    },
    {
      "cell_type": "code",
      "source": [
        "def after_smoothing(data, dist):\n",
        "  \"\"\"\n",
        "  Display new data after smoothing.\n",
        "  data : Data\n",
        "  dist : District\n",
        "  \"\"\"\n",
        "\n",
        "  new_data = pd.concat([data[\"Maternal Death\"], data[\"Smoothed Maternal Death\"]], axis = 1)\n",
        "  data.dropnae(subset = [\"Maternal Death Diff\"], inplace = True)\n",
        "  print(\"New data for \", dist, \": \")\n",
        "  print(new_data.head())\n"
      ],
      "metadata": {
        "id": "LrWviIyVwOgN"
      },
      "execution_count": 58,
      "outputs": []
    },
    {
      "cell_type": "code",
      "source": [
        "# Select records for Sunamganj\n",
        "sunamganj = data.loc[data[\"District\"] == \"Sunamganj\", [\"Maternal Death\"]]\n",
        "sunamganj"
      ],
      "metadata": {
        "id": "anF7RI-dWlhD"
      },
      "execution_count": null,
      "outputs": []
    },
    {
      "cell_type": "code",
      "source": [
        "# Plot a line plot for Sunamganj\n",
        "line_plot(sunamganj, \"Sunamganj\")"
      ],
      "metadata": {
        "id": "-59U1MbiX1FW"
      },
      "execution_count": null,
      "outputs": []
    },
    {
      "cell_type": "code",
      "source": [
        "# Plot seasonality of Sunamganj\n",
        "plot_seasonality(sunamganj, \"Sunamganj\")"
      ],
      "metadata": {
        "id": "eDjO2XrXqpDU"
      },
      "execution_count": null,
      "outputs": []
    },
    {
      "cell_type": "code",
      "source": [
        "# Test for stationarity of Sunamganj\n",
        "testing_stationarity(sunamganj, \"Sunamganj\")"
      ],
      "metadata": {
        "id": "Tg8W0VqWrzvK"
      },
      "execution_count": null,
      "outputs": []
    },
    {
      "cell_type": "code",
      "source": [
        "# Select records for Sirajganj\n",
        "sirajganj = data.loc[data[\"District\"] == \"Sirajganj\", [\"Maternal Death\"]]\n",
        "sirajganj.head()"
      ],
      "metadata": {
        "id": "pK7BDVvOsUoK"
      },
      "execution_count": null,
      "outputs": []
    },
    {
      "cell_type": "code",
      "source": [
        "# Display trend Maternal Death in Sirajganj\n",
        "line_plot(sirajganj, \"Sirajganj\")"
      ],
      "metadata": {
        "id": "Naw4NYZqxqig"
      },
      "execution_count": null,
      "outputs": []
    },
    {
      "cell_type": "code",
      "source": [
        "# Check for seasonality\n",
        "plot_seasonality(sirajganj, \"Sirajganj\")"
      ],
      "metadata": {
        "id": "l8NmKC7iyBMw"
      },
      "execution_count": null,
      "outputs": []
    },
    {
      "cell_type": "code",
      "source": [
        "# Check for stationarity\n",
        "testing_stationarity(sirajganj, \"Sirajganj\")"
      ],
      "metadata": {
        "id": "7IVWn0THyPFg"
      },
      "execution_count": null,
      "outputs": []
    },
    {
      "cell_type": "code",
      "source": [
        "# Select records for Netrokona\n",
        "netrokona = data.loc[data[\"District\"] == \"Netrokona\", [\"Maternal Death\"]]\n",
        "netrokona.head()"
      ],
      "metadata": {
        "id": "Dgtghhe7yigb"
      },
      "execution_count": null,
      "outputs": []
    },
    {
      "cell_type": "code",
      "source": [
        "# Display trend of Netrokona\n",
        "line_plot(netrokona, \"Netrokona\")"
      ],
      "metadata": {
        "id": "lqQnxiHrzY3Z"
      },
      "execution_count": null,
      "outputs": []
    },
    {
      "cell_type": "code",
      "source": [
        "# Display seasonality of netrokona\n",
        "plot_seasonality(netrokona, \"Netrokona\")"
      ],
      "metadata": {
        "id": "OxpB5NcOziSt"
      },
      "execution_count": null,
      "outputs": []
    },
    {
      "cell_type": "code",
      "source": [
        "# Display stationarity of Netrokona\n",
        "testing_stationarity(netrokona, \"Netrokona\")"
      ],
      "metadata": {
        "id": "94meNQ8-zu1a"
      },
      "execution_count": null,
      "outputs": []
    },
    {
      "cell_type": "code",
      "source": [
        "# Select records for Rangpur District\n",
        "rangpur = data.loc[data[\"District\"] == \"Rangpur\", [\"Maternal Death\"]]\n",
        "rangpur.head()"
      ],
      "metadata": {
        "id": "KmIuMN-A0KLm"
      },
      "execution_count": null,
      "outputs": []
    },
    {
      "cell_type": "code",
      "source": [
        "# Display trend in Rangpur\n",
        "line_plot(rangpur, \"Rangpur\")"
      ],
      "metadata": {
        "id": "aYD2KCrm0b9s"
      },
      "execution_count": null,
      "outputs": []
    },
    {
      "cell_type": "code",
      "source": [
        "# Display seasonality of Rangpur\n",
        "plot_seasonality(rangpur, \"Rangpur\")"
      ],
      "metadata": {
        "id": "dsatJ4640oQn"
      },
      "execution_count": null,
      "outputs": []
    },
    {
      "cell_type": "code",
      "source": [
        "# Display stationarity of Rangpur\n",
        "testing_stationarity(rangpur, \"Rangpur\")"
      ],
      "metadata": {
        "id": "2N5hMO7J1GTV"
      },
      "execution_count": null,
      "outputs": []
    },
    {
      "cell_type": "code",
      "source": [
        "# Select records for Chandpur district\n",
        "chandpur = data.loc[data[\"District\"] == \"Chandpur\", [\"Maternal Death\"]]\n",
        "chandpur.head()"
      ],
      "metadata": {
        "id": "5EL_oSeJ1Zk5"
      },
      "execution_count": null,
      "outputs": []
    },
    {
      "cell_type": "code",
      "source": [
        "# Display trend for Chandpur\n",
        "line_plot(chandpur, \"Chandpur\")"
      ],
      "metadata": {
        "id": "jQpA6jfC1zPv"
      },
      "execution_count": null,
      "outputs": []
    },
    {
      "cell_type": "code",
      "source": [
        "# Display seasonality of Chandpur\n",
        "plot_seasonality(chandpur, \"Chandpur\")\n",
        "\n",
        "# Display stationarity of Chandpur\n",
        "testing_stationarity(chandpur, \"Chandpur\")"
      ],
      "metadata": {
        "id": "cjzZv8Ay2ACv"
      },
      "execution_count": null,
      "outputs": []
    },
    {
      "cell_type": "code",
      "source": [
        "# Select records for Dhaka district\n",
        "dhaka = data.loc[data[\"District\"] == \"Dhaka\", [\"Maternal Death\"]]\n",
        "dhaka.head()"
      ],
      "metadata": {
        "id": "1yoTMKyK2aS-"
      },
      "execution_count": null,
      "outputs": []
    },
    {
      "cell_type": "code",
      "source": [
        "# Display trend for Dhaka district\n",
        "line_plot(dhaka, \"Dhaka\")"
      ],
      "metadata": {
        "id": "HJDnb8sj2o4P"
      },
      "execution_count": null,
      "outputs": []
    },
    {
      "cell_type": "code",
      "source": [
        "# Display seasonality of Dhaka\n",
        "plot_seasonality(dhaka, \"Dhaka\")\n",
        "\n",
        "# Check for stationarity of Dhaka\n",
        "testing_stationarity(dhaka, \"Dhaka\")"
      ],
      "metadata": {
        "id": "85B7oWAY3WeZ"
      },
      "execution_count": null,
      "outputs": []
    },
    {
      "cell_type": "code",
      "source": [
        "# Select records of Chuadanga\n",
        "chuadanga = data.loc[data[\"District\"] == \"Chuadanga\", [\"Maternal Death\"]]\n",
        "chuadanga.head()"
      ],
      "metadata": {
        "id": "HjTE9UhC3wnp"
      },
      "execution_count": null,
      "outputs": []
    },
    {
      "cell_type": "code",
      "source": [
        "# Display trend of Chuadanga\n",
        "line_plot(chuadanga, \"Chuadanga\")"
      ],
      "metadata": {
        "id": "JlVh2pME4QsJ"
      },
      "execution_count": null,
      "outputs": []
    },
    {
      "cell_type": "code",
      "source": [
        "# Check for seasonality of Chuadanga\n",
        "plot_seasonality(chuadanga, \"Chuadanga\")\n",
        "\n",
        "# Check for stationarity of chuadanga\n",
        "testing_stationarity(chuadanga, \"Chuadanga\")"
      ],
      "metadata": {
        "id": "nSjXD5bO4asF"
      },
      "execution_count": null,
      "outputs": []
    },
    {
      "cell_type": "code",
      "source": [
        "# Select records of Bhola\n",
        "bhola = data.loc[data[\"District\"] == \"Bhola\", [\"Maternal Death\"]]\n",
        "bhola.head()"
      ],
      "metadata": {
        "id": "ivueDyLR4t-S"
      },
      "execution_count": null,
      "outputs": []
    },
    {
      "cell_type": "code",
      "source": [
        "# Check for seasonality of Bhola\n",
        "plot_seasonality(bhola , \"Bhola\")\n",
        "\n",
        "# Check for stationarity of Bhola\n",
        "testing_stationarity(bhola, \"Bhola\")"
      ],
      "metadata": {
        "id": "XztiQt_j5C-C"
      },
      "execution_count": null,
      "outputs": []
    }
  ]
}